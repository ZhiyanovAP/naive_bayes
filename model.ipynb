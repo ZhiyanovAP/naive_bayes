{
 "cells": [
  {
   "cell_type": "code",
   "execution_count": 1,
   "metadata": {},
   "outputs": [],
   "source": [
    "from sklearn.feature_extraction.text import CountVectorizer\n",
    "from sklearn.feature_extraction.text import TfidfVectorizer\n",
    "\n",
    "from sklearn.model_selection import ShuffleSplit, cross_val_score\n",
    "\n",
    "from sklearn.naive_bayes import MultinomialNB\n",
    "\n",
    "import pandas as pd"
   ]
  },
  {
   "cell_type": "code",
   "execution_count": 2,
   "metadata": {},
   "outputs": [],
   "source": [
    "dataset = pd.read_csv('data/cleaned_data.csv', index_col=0).dropna()"
   ]
  },
  {
   "cell_type": "code",
   "execution_count": 3,
   "metadata": {},
   "outputs": [],
   "source": [
    "ngram_schemes = [(1, 1), (1, 2), (1, 3), (1, 4), (1, 5), (1, 6)]\n",
    "stop_symbols = [\":)\", \")\", \":D\", \":(\", \"(\", \"!\"]"
   ]
  },
  {
   "cell_type": "code",
   "execution_count": 4,
   "metadata": {},
   "outputs": [
    {
     "data": {
      "text/html": [
       "<div>\n",
       "<style scoped>\n",
       "    .dataframe tbody tr th:only-of-type {\n",
       "        vertical-align: middle;\n",
       "    }\n",
       "\n",
       "    .dataframe tbody tr th {\n",
       "        vertical-align: top;\n",
       "    }\n",
       "\n",
       "    .dataframe thead th {\n",
       "        text-align: right;\n",
       "    }\n",
       "</style>\n",
       "<table border=\"1\" class=\"dataframe\">\n",
       "  <thead>\n",
       "    <tr style=\"text-align: right;\">\n",
       "      <th></th>\n",
       "      <th>text</th>\n",
       "      <th>label</th>\n",
       "      <th>repeat</th>\n",
       "      <th>favourite</th>\n",
       "      <th>:)</th>\n",
       "      <th>)</th>\n",
       "      <th>:D</th>\n",
       "      <th>:(</th>\n",
       "      <th>(</th>\n",
       "      <th>!</th>\n",
       "    </tr>\n",
       "  </thead>\n",
       "  <tbody>\n",
       "    <tr>\n",
       "      <th>0</th>\n",
       "      <td>хоть я и школотый но поверь у мы то же самый о...</td>\n",
       "      <td>1</td>\n",
       "      <td>0</td>\n",
       "      <td>0</td>\n",
       "      <td>0</td>\n",
       "      <td>1</td>\n",
       "      <td>1</td>\n",
       "      <td>0</td>\n",
       "      <td>0</td>\n",
       "      <td>0</td>\n",
       "    </tr>\n",
       "    <tr>\n",
       "      <th>1</th>\n",
       "      <td>да всетаки он немного похожий на он но мой мал...</td>\n",
       "      <td>1</td>\n",
       "      <td>0</td>\n",
       "      <td>0</td>\n",
       "      <td>0</td>\n",
       "      <td>0</td>\n",
       "      <td>1</td>\n",
       "      <td>0</td>\n",
       "      <td>0</td>\n",
       "      <td>0</td>\n",
       "    </tr>\n",
       "    <tr>\n",
       "      <th>2</th>\n",
       "      <td>ну ты идиотка я испугаться за ты</td>\n",
       "      <td>1</td>\n",
       "      <td>0</td>\n",
       "      <td>1</td>\n",
       "      <td>0</td>\n",
       "      <td>1</td>\n",
       "      <td>0</td>\n",
       "      <td>0</td>\n",
       "      <td>0</td>\n",
       "      <td>1</td>\n",
       "    </tr>\n",
       "    <tr>\n",
       "      <th>3</th>\n",
       "      <td>кто то в угол сидеть и погибать от голод а мы ...</td>\n",
       "      <td>1</td>\n",
       "      <td>0</td>\n",
       "      <td>1</td>\n",
       "      <td>0</td>\n",
       "      <td>0</td>\n",
       "      <td>1</td>\n",
       "      <td>0</td>\n",
       "      <td>0</td>\n",
       "      <td>0</td>\n",
       "    </tr>\n",
       "    <tr>\n",
       "      <th>4</th>\n",
       "      <td>вот что значит страшилка но блинпосмотреть вес...</td>\n",
       "      <td>1</td>\n",
       "      <td>0</td>\n",
       "      <td>0</td>\n",
       "      <td>0</td>\n",
       "      <td>0</td>\n",
       "      <td>1</td>\n",
       "      <td>0</td>\n",
       "      <td>0</td>\n",
       "      <td>0</td>\n",
       "    </tr>\n",
       "  </tbody>\n",
       "</table>\n",
       "</div>"
      ],
      "text/plain": [
       "                                                text  label  repeat  \\\n",
       "0  хоть я и школотый но поверь у мы то же самый о...      1       0   \n",
       "1  да всетаки он немного похожий на он но мой мал...      1       0   \n",
       "2                   ну ты идиотка я испугаться за ты      1       0   \n",
       "3  кто то в угол сидеть и погибать от голод а мы ...      1       0   \n",
       "4  вот что значит страшилка но блинпосмотреть вес...      1       0   \n",
       "\n",
       "   favourite  :)  )  :D  :(  (  !  \n",
       "0          0   0  1   1   0  0  0  \n",
       "1          0   0  0   1   0  0  0  \n",
       "2          1   0  1   0   0  0  1  \n",
       "3          1   0  0   1   0  0  0  \n",
       "4          0   0  0   1   0  0  0  "
      ]
     },
     "execution_count": 4,
     "metadata": {},
     "output_type": "execute_result"
    }
   ],
   "source": [
    "dataset.head()"
   ]
  },
  {
   "cell_type": "code",
   "execution_count": 5,
   "metadata": {},
   "outputs": [],
   "source": [
    "for index, row in dataset.iterrows():\n",
    "    for symb in stop_symbols:\n",
    "        if (row[symb] > 0):\n",
    "            row['text'] += ' ' + symb"
   ]
  },
  {
   "cell_type": "code",
   "execution_count": 6,
   "metadata": {},
   "outputs": [
    {
     "data": {
      "text/plain": [
       "0    хоть я и школотый но поверь у мы то же самый о...\n",
       "1    да всетаки он немного похожий на он но мой мал...\n",
       "2                     ну ты идиотка я испугаться за ты\n",
       "3    кто то в угол сидеть и погибать от голод а мы ...\n",
       "4    вот что значит страшилка но блинпосмотреть вес...\n",
       "Name: text, dtype: object"
      ]
     },
     "execution_count": 6,
     "metadata": {},
     "output_type": "execute_result"
    }
   ],
   "source": [
    "dataset['text'].head()"
   ]
  },
  {
   "cell_type": "code",
   "execution_count": 8,
   "metadata": {},
   "outputs": [
    {
     "name": "stdout",
     "output_type": "stream",
     "text": [
      "N-gram Scheme: (1, 1)\n",
      "NB: 0.7211685697071227\n",
      "N-gram Scheme: (1, 2)\n",
      "NB: 0.7363958324148776\n",
      "N-gram Scheme: (1, 3)\n",
      "NB: 0.7362576966597598\n",
      "N-gram Scheme: (1, 4)\n",
      "NB: 0.7354318211876737\n",
      "N-gram Scheme: (1, 5)\n",
      "NB: 0.7345471645431968\n",
      "N-gram Scheme: (1, 6)\n",
      "NB: 0.7338123998883158\n"
     ]
    }
   ],
   "source": [
    "for ngram_scheme in ngram_schemes:\n",
    "\n",
    "    print('N-gram Scheme:', ngram_scheme)\n",
    "\n",
    "    count_vectorizer = CountVectorizer(analyzer = \"word\", ngram_range=ngram_scheme) \n",
    "    \n",
    "    X = count_vectorizer.fit_transform(dataset['text'])\n",
    "    y = dataset['label']\n",
    "    \n",
    "    cv = ShuffleSplit(n_splits=5, test_size=0.3, random_state=0)\n",
    "    \n",
    "    clf = MultinomialNB()\n",
    "    NB_result = cross_val_score(clf, X, y, cv=cv).mean()\n",
    "    print('NB:', NB_result.mean())"
   ]
  },
  {
   "cell_type": "code",
   "execution_count": 9,
   "metadata": {},
   "outputs": [
    {
     "name": "stdout",
     "output_type": "stream",
     "text": [
      "N-gram Scheme: (1, 1)\n",
      "NB: 0.7166042116710019\n",
      "N-gram Scheme: (1, 2)\n",
      "NB: 0.7395553204308659\n",
      "N-gram Scheme: (1, 3)\n",
      "NB: 0.7427295037399521\n",
      "N-gram Scheme: (1, 4)\n",
      "NB: 0.7442636923393438\n",
      "N-gram Scheme: (1, 5)\n",
      "NB: 0.7448191744184338\n",
      "N-gram Scheme: (1, 6)\n",
      "NB: 0.7449955179356053\n"
     ]
    }
   ],
   "source": [
    "for ngram_scheme in ngram_schemes:\n",
    "\n",
    "    print('N-gram Scheme:', ngram_scheme)\n",
    "     \n",
    "    tfidf_vectorizer = TfidfVectorizer(analyzer = \"word\", ngram_range=ngram_scheme)\n",
    "    \n",
    "    X = tfidf_vectorizer.fit_transform(dataset['text'])\n",
    "    y = dataset['label']\n",
    "    \n",
    "    cv = ShuffleSplit(n_splits=5, test_size=0.3, random_state=0)\n",
    "    \n",
    "    clf = MultinomialNB()\n",
    "    NB_result = cross_val_score(clf, X, y, cv=cv).mean()\n",
    "    print('NB:', NB_result.mean())"
   ]
  },
  {
   "cell_type": "code",
   "execution_count": null,
   "metadata": {},
   "outputs": [],
   "source": []
  }
 ],
 "metadata": {
  "kernelspec": {
   "display_name": "Python 3",
   "language": "python",
   "name": "python3"
  },
  "language_info": {
   "codemirror_mode": {
    "name": "ipython",
    "version": 3
   },
   "file_extension": ".py",
   "mimetype": "text/x-python",
   "name": "python",
   "nbconvert_exporter": "python",
   "pygments_lexer": "ipython3",
   "version": "3.6.4"
  }
 },
 "nbformat": 4,
 "nbformat_minor": 2
}
