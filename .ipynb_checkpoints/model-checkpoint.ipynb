{
 "cells": [
  {
   "cell_type": "code",
   "execution_count": 1,
   "metadata": {},
   "outputs": [],
   "source": [
    "from sklearn.feature_extraction.text import CountVectorizer\n",
    "from sklearn.feature_extraction.text import TfidfVectorizer\n",
    "\n",
    "from sklearn.model_selection import ShuffleSplit, cross_val_score\n",
    "\n",
    "from sklearn.naive_bayes import MultinomialNB\n",
    "\n",
    "import pandas as pd"
   ]
  },
  {
   "cell_type": "code",
   "execution_count": 2,
   "metadata": {},
   "outputs": [],
   "source": [
    "dataset = pd.read_csv('data/cleaned_data.csv', index_col=0).dropna()"
   ]
  },
  {
   "cell_type": "code",
   "execution_count": 3,
   "metadata": {},
   "outputs": [],
   "source": [
    "ngram_schemes = [(1, 1), (1, 2), (1, 3), (1, 4), (1, 5), (1, 6)]"
   ]
  },
  {
   "cell_type": "code",
   "execution_count": 4,
   "metadata": {},
   "outputs": [
    {
     "ename": "NameError",
     "evalue": "name 'count_vectorizer' is not defined",
     "output_type": "error",
     "traceback": [
      "\u001b[0;31m---------------------------------------------------------------------------\u001b[0m",
      "\u001b[0;31mNameError\u001b[0m                                 Traceback (most recent call last)",
      "\u001b[0;32m<ipython-input-4-3aeae842b48e>\u001b[0m in \u001b[0;36m<module>\u001b[0;34m()\u001b[0m\n\u001b[0;32m----> 1\u001b[0;31m \u001b[0mX\u001b[0m \u001b[0;34m=\u001b[0m \u001b[0mcount_vectorizer\u001b[0m\u001b[0;34m.\u001b[0m\u001b[0mfit_transform\u001b[0m\u001b[0;34m(\u001b[0m\u001b[0mdataset\u001b[0m\u001b[0;34m[\u001b[0m\u001b[0;34m'text'\u001b[0m\u001b[0;34m]\u001b[0m\u001b[0;34m)\u001b[0m\u001b[0;34m\u001b[0m\u001b[0m\n\u001b[0m",
      "\u001b[0;31mNameError\u001b[0m: name 'count_vectorizer' is not defined"
     ]
    }
   ],
   "source": [
    "count_vectorizer = CountVectorizer(analyzer = \"word\", ngram_range=(1, 3))\n",
    "X = count_vectorizer.fit_transform(dataset['text'])"
   ]
  },
  {
   "cell_type": "code",
   "execution_count": 4,
   "metadata": {},
   "outputs": [
    {
     "name": "stdout",
     "output_type": "stream",
     "text": [
      "N-gram Scheme: (1, 1)\n",
      "NB: 0.7211685697071227\n",
      "N-gram Scheme: (1, 2)\n",
      "NB: 0.7363958324148776\n",
      "N-gram Scheme: (1, 3)\n",
      "NB: 0.7362576966597598\n",
      "N-gram Scheme: (1, 4)\n",
      "NB: 0.7354318211876737\n",
      "N-gram Scheme: (1, 5)\n",
      "NB: 0.7345471645431968\n",
      "N-gram Scheme: (1, 6)\n",
      "NB: 0.7338123998883158\n"
     ]
    }
   ],
   "source": [
    "for ngram_scheme in ngram_schemes:\n",
    "\n",
    "    print('N-gram Scheme:', ngram_scheme)\n",
    "\n",
    "    count_vectorizer = CountVectorizer(analyzer = \"word\", ngram_range=ngram_scheme) \n",
    "    \n",
    "    X = count_vectorizer.fit_transform(dataset['text'])\n",
    "    y = dataset['label']\n",
    "    \n",
    "    cv = ShuffleSplit(n_splits=5, test_size=0.3, random_state=0)\n",
    "    \n",
    "    clf = MultinomialNB()\n",
    "    NB_result = cross_val_score(clf, X, y, cv=cv).mean()\n",
    "    print('NB:', NB_result.mean())"
   ]
  },
  {
   "cell_type": "code",
   "execution_count": 6,
   "metadata": {},
   "outputs": [
    {
     "name": "stdout",
     "output_type": "stream",
     "text": [
      "N-gram Scheme: (1, 1)\n",
      "NB: 0.7166042116710019\n",
      "N-gram Scheme: (1, 2)\n",
      "NB: 0.7395553204308659\n",
      "N-gram Scheme: (1, 3)\n",
      "NB: 0.7427295037399521\n",
      "N-gram Scheme: (1, 4)\n",
      "NB: 0.7442636923393438\n",
      "N-gram Scheme: (1, 5)\n",
      "NB: 0.7448191744184338\n",
      "N-gram Scheme: (1, 6)\n",
      "NB: 0.7449955179356053\n"
     ]
    }
   ],
   "source": [
    "for ngram_scheme in ngram_schemes:\n",
    "\n",
    "    print('N-gram Scheme:', ngram_scheme)\n",
    "     \n",
    "    tfidf_vectorizer = TfidfVectorizer(analyzer = \"word\", ngram_range=ngram_scheme)\n",
    "    \n",
    "    X = tfidf_vectorizer.fit_transform(dataset['text'])\n",
    "    y = dataset['label']\n",
    "    \n",
    "    cv = ShuffleSplit(n_splits=5, test_size=0.3, random_state=0)\n",
    "    \n",
    "    clf = MultinomialNB()\n",
    "    NB_result = cross_val_score(clf, X, y, cv=cv).mean()\n",
    "    print('NB:', NB_result.mean())"
   ]
  },
  {
   "cell_type": "code",
   "execution_count": null,
   "metadata": {},
   "outputs": [],
   "source": []
  }
 ],
 "metadata": {
  "kernelspec": {
   "display_name": "Python 3",
   "language": "python",
   "name": "python3"
  },
  "language_info": {
   "codemirror_mode": {
    "name": "ipython",
    "version": 3
   },
   "file_extension": ".py",
   "mimetype": "text/x-python",
   "name": "python",
   "nbconvert_exporter": "python",
   "pygments_lexer": "ipython3",
   "version": "3.6.4"
  }
 },
 "nbformat": 4,
 "nbformat_minor": 2
}
